{
 "cells": [
  {
   "cell_type": "markdown",
   "metadata": {},
   "source": [
    "# single-number\n",
    "https://leetcode.com/problems/single-number/"
   ]
  },
  {
   "cell_type": "code",
   "execution_count": 1,
   "metadata": {},
   "outputs": [
    {
     "data": {
      "text/plain": [
       "6"
      ]
     },
     "execution_count": 1,
     "metadata": {},
     "output_type": "execute_result"
    }
   ],
   "source": [
    "def single_number(arr):# O(n)\n",
    "    _dict = dict()\n",
    "    \n",
    "    for x in arr: # O(n)\n",
    "        if x not in _dict: # O(1)\n",
    "            _dict[x] = 1# O(1)\n",
    "        else: \n",
    "            _dict[x] += 1 # O(1)\n",
    "    \n",
    "    for x in _dict: # O(n)\n",
    "        if _dict[x] == 1:\n",
    "            return x\n",
    "\n",
    "\n",
    "\n",
    "array = [1,2,3,4,3,2,1,6,4]\n",
    "single_number(array)"
   ]
  },
  {
   "cell_type": "markdown",
   "metadata": {},
   "source": [
    "# majority-element\n",
    "https://leetcode.com/problems/majority-element/\n"
   ]
  },
  {
   "cell_type": "code",
   "execution_count": 14,
   "metadata": {},
   "outputs": [
    {
     "data": {
      "text/plain": [
       "5"
      ]
     },
     "execution_count": 14,
     "metadata": {},
     "output_type": "execute_result"
    }
   ],
   "source": [
    "def find_majority_element(nums):\n",
    "    _dict=dict()\n",
    "    for x in nums:\n",
    "        if x not in _dict:\n",
    "            _dict[x] = 1\n",
    "        else:\n",
    "            _dict[x] += 1       \n",
    "    for x in _dict:\n",
    "        if(_dict[x] > len(nums)/2):\n",
    "            return x\n",
    "    return -1\n",
    "\n",
    "nums = [2,2,1,1,1,5,5,5,5,5,5,5,2]\n",
    "find_majority_element(nums)"
   ]
  },
  {
   "cell_type": "markdown",
   "metadata": {},
   "source": [
    "# reverse a string\n",
    "Problems: Give a string as input, return the string in reverse order.\n",
    "\n",
    "example: \"abc\" -> \"cba\""
   ]
  },
  {
   "cell_type": "code",
   "execution_count": 1,
   "metadata": {},
   "outputs": [
    {
     "name": "stdout",
     "output_type": "stream",
     "text": [
      "dcba\n",
      "dcba\n"
     ]
    }
   ],
   "source": [
    "def reverse_string(string):\n",
    "    res = \"\"\n",
    "    \n",
    "    for i in range(len(string)): #### for int i = 0; i++; i< str_len\n",
    "        res+= string[str_len - i - 1]\n",
    "    return res\n",
    "\n",
    "def reverse_string_2(string):\n",
    "    res = \"\"\n",
    "    for s in string:\n",
    "        res = s + res   # res = \"cba\"\n",
    "    return res\n",
    "\n",
    "\n",
    "\n",
    "\n",
    "\n",
    "\n",
    "print(reverse_string(\"abcd\"))\n",
    "print(reverse_string_2(\"abcd\"))\n"
   ]
  },
  {
   "cell_type": "markdown",
   "metadata": {},
   "source": [
    "# Filter_number\n"
   ]
  },
  {
   "cell_type": "code",
   "execution_count": 30,
   "metadata": {},
   "outputs": [
    {
     "data": {
      "text/plain": [
       "'abcA354'"
      ]
     },
     "execution_count": 30,
     "metadata": {},
     "output_type": "execute_result"
    }
   ],
   "source": [
    "array = [1,2,3,4,5,4,4,2]\n",
    "def filter_nums(list):\n",
    "    nums=[]\n",
    "    _dict=dict()\n",
    "    for x in list:\n",
    "        if x not in _dict:\n",
    "            _dict[x] = 1\n",
    "        else:\n",
    "            _dict[x] += 1\n",
    "    for k in _dict.keys():\n",
    "        nums.append(k)\n",
    "    return nums\n",
    "string='abcAa354b3'\n",
    "\n",
    "def filter_string(string):\n",
    "    res = \"\"\n",
    "    my_dict=dict()\n",
    "    for x in string:\n",
    "        if x not in my_dict:\n",
    "            my_dict[x] = 1\n",
    "        else:\n",
    "            my_dict[x] += 1\n",
    "    for k in my_dict.keys():\n",
    "        res = res + k\n",
    "    return res\n",
    "\n",
    "\n",
    "filter_string(string)"
   ]
  },
  {
   "cell_type": "markdown",
   "metadata": {},
   "source": [
    "# reverse-words-in-a-string/ \n",
    "https://leetcode.com/problems/reverse-words-in-a-string/ "
   ]
  },
  {
   "cell_type": "code",
   "execution_count": 4,
   "metadata": {},
   "outputs": [
    {
     "data": {
      "text/plain": [
       "'you love i'"
      ]
     },
     "execution_count": 4,
     "metadata": {},
     "output_type": "execute_result"
    }
   ],
   "source": [
    "def reverse_words( s):\n",
    "    \"\"\"\n",
    "    :type s: str\n",
    "    :rtype: str\n",
    "    \"\"\"\n",
    "\n",
    "    list_string  = s.split() #O(n)\n",
    "    res = \"\"\n",
    "    for s in list_string: #O(n)\n",
    "        res = s + \" \" + res \n",
    "    return res[:-1]\n",
    "\n",
    "string = \"i love   you\"\n",
    "reverse_words(string)"
   ]
  },
  {
   "cell_type": "markdown",
   "metadata": {},
   "source": [
    "# two-sum\n",
    "https://leetcode.com/problems/two-sum/"
   ]
  },
  {
   "cell_type": "code",
   "execution_count": 37,
   "metadata": {},
   "outputs": [],
   "source": [
    "def two_sum(nums, target):\n",
    "    my_dict = dict()\n",
    "    for i, x in enumerate(nums):\n",
    "        complement = target - x  # target = 9, x = 2 => complement = 7\n",
    "        if complement not in my_dict:\n",
    "            my_dict[x] = i   # my_dict[2] = i \n",
    "        else:\n",
    "            return [my_dict[complement], i]"
   ]
  },
  {
   "cell_type": "code",
   "execution_count": 40,
   "metadata": {},
   "outputs": [],
   "source": [
    "## test\n",
    "nums = [230,863,916,585,981,404,316,785,88,12,70,435,384,778,887,755,740,337,86,92,325,422,815,650,920,125,277,336,221,847,168,23,677,61,400,136,874,363,394,199,863,997,794,587,124,321,212,957,764,173,314,422,927,783,930,282,306,506,44,926,691,568,68,730,933,737,531,180,414,751,28,546,60,371,493,370,527,387,43,541,13,457,328,227,652,365,430,803,59,858,538,427,583,368,375,173,809,896,370,789]\n",
    "target = 542\n",
    "\n",
    "result = two_sum(nums, target)\n",
    "true_res = [28,45]\n",
    "\n",
    "## verify the result, if true: nothing happens, if false: show message\n",
    "assert result == true_res, \"Wrong answer !!!\""
   ]
  },
  {
   "cell_type": "code",
   "execution_count": 41,
   "metadata": {},
   "outputs": [
    {
     "data": {
      "text/plain": [
       "[0, 4]"
      ]
     },
     "execution_count": 41,
     "metadata": {},
     "output_type": "execute_result"
    }
   ],
   "source": [
    "nums= [0,3,-3,4,-1]\n",
    "target = -1\n",
    "\n",
    "\n",
    "two_sum(nums, target)"
   ]
  },
  {
   "cell_type": "code",
   "execution_count": 42,
   "metadata": {},
   "outputs": [
    {
     "data": {
      "text/plain": [
       "[1, 2]"
      ]
     },
     "execution_count": 42,
     "metadata": {},
     "output_type": "execute_result"
    }
   ],
   "source": [
    "nums= [2,11,5,7,15]\n",
    "target = 16\n",
    "\n",
    "two_sum(nums, target)"
   ]
  },
  {
   "cell_type": "markdown",
   "metadata": {},
   "source": [
    "# remove-duplicates-from-sorted-array\n",
    "https://leetcode.com/problems/remove-duplicates-from-sorted-array/"
   ]
  },
  {
   "cell_type": "code",
   "execution_count": 50,
   "metadata": {},
   "outputs": [],
   "source": [
    "def removeDuplicates(nums):\n",
    "    ## TODO\n",
    "    return -1"
   ]
  },
  {
   "cell_type": "code",
   "execution_count": 51,
   "metadata": {},
   "outputs": [],
   "source": [
    "## test case 1\n",
    "nums = [0,0,1,1,1,2,2,3,3,4]\n",
    "res = removeDuplicates(nums)\n",
    "\n",
    "## verify the result, if true: nothing happens, if false: show message\n",
    "assert res == 5, \"Wrong answer !!!\""
   ]
  },
  {
   "cell_type": "code",
   "execution_count": null,
   "metadata": {},
   "outputs": [],
   "source": [
    "## test case 2\n",
    "nums = [1,1,2]\n",
    "res = removeDuplicates(nums)\n",
    "\n",
    "assert res == 2, \"Wrong answer !!!\""
   ]
  },
  {
   "cell_type": "code",
   "execution_count": null,
   "metadata": {},
   "outputs": [],
   "source": [
    "## test case 3\n",
    "nums = [1]\n",
    "res = removeDuplicates(nums)\n",
    "\n",
    "assert res == 1, \"Wrong answer !!!\""
   ]
  },
  {
   "cell_type": "markdown",
   "metadata": {},
   "source": [
    "# jewels-and-stones\n",
    "https://leetcode.com/problems/jewels-and-stones/\n"
   ]
  },
  {
   "cell_type": "code",
   "execution_count": 61,
   "metadata": {},
   "outputs": [],
   "source": [
    "class Solution(object):\n",
    "    def numJewelsInStones(self, J, S):\n",
    "        \"\"\"\n",
    "        :type J: str\n",
    "        :type S: str\n",
    "        :rtype: int\n",
    "        \"\"\"\n",
    "        dict_J = dict()\n",
    "        for x in J:\n",
    "            if x not in dict_J:\n",
    "                dict_J[x] = 1\n",
    "            else:\n",
    "                dict_J[x] += 1\n",
    "                \n",
    "        dict_S = dict()\n",
    "        for x in S:\n",
    "            if x not in dict_S:\n",
    "                dict_S[x] = 1\n",
    "            else:\n",
    "                dict_S[x] += 1\n",
    "        res=0\n",
    "        for k, v in dict_S.items():\n",
    "            if k in dict_J:\n",
    "                res += v \n",
    "        return res"
   ]
  },
  {
   "cell_type": "code",
   "execution_count": 64,
   "metadata": {},
   "outputs": [
    {
     "data": {
      "text/plain": [
       "3"
      ]
     },
     "execution_count": 64,
     "metadata": {},
     "output_type": "execute_result"
    }
   ],
   "source": [
    "J = \"aA\"\n",
    "S = \"aAAbbbb\"\n",
    "\n",
    "a = Solution()\n",
    "a.numJewelsInStones(J, S)"
   ]
  },
  {
   "cell_type": "markdown",
   "metadata": {},
   "source": [
    "# missing-number\n",
    "https://leetcode.com/problems/missing-number/"
   ]
  },
  {
   "cell_type": "code",
   "execution_count": 81,
   "metadata": {},
   "outputs": [],
   "source": [
    "class Solution:\n",
    "    def missingNumber(self, nums):\n",
    "        _sum = 0\n",
    "        n = len(nums)\n",
    "        total_origin = int(n* (n+1)/2)\n",
    "        for x in nums:\n",
    "             _sum += x\n",
    "        k = total_origin - _sum   \n",
    "        return k"
   ]
  },
  {
   "cell_type": "code",
   "execution_count": 82,
   "metadata": {},
   "outputs": [],
   "source": [
    "nums = [9,6,4,2,3,5,7,0,1]\n",
    "test = Solution()\n",
    "res = test.missingNumber(nums)\n",
    "true_res = 8\n",
    "\n",
    "assert res == true_res, \"Wrong answer !!!\" "
   ]
  },
  {
   "cell_type": "markdown",
   "metadata": {},
   "source": [
    "# find-the-diference\n",
    "https://leetcode.com/problems/find-the-difference/"
   ]
  },
  {
   "cell_type": "code",
   "execution_count": 1,
   "metadata": {},
   "outputs": [
    {
     "data": {
      "text/plain": [
       "'d'"
      ]
     },
     "execution_count": 1,
     "metadata": {},
     "output_type": "execute_result"
    }
   ],
   "source": [
    "s='abcd'\n",
    "t='acdde'\n",
    "def find_the_difference(s,t):\n",
    "    dict_s= dict()\n",
    "    for x in s:\n",
    "        if x not in dict_s:\n",
    "            dict_s[x] = 1\n",
    "        else:\n",
    "            dict_s[x] += 1\n",
    "    dict_t= dict()\n",
    "    for x in t:\n",
    "        if x not in dict_t:\n",
    "            dict_t[x] = 1\n",
    "        else:\n",
    "            dict_t[x] += 1\n",
    "    for k in dict_t.keys():\n",
    "        if k not in dict_s or dict_s.get(k) != dict_t.get(k):\n",
    "            return k\n",
    "    return -1;\n",
    "find_the_difference(s,t)"
   ]
  },
  {
   "cell_type": "markdown",
   "metadata": {},
   "source": [
    "# find-the-duplicate\n",
    "https://leetcode.com/problems/find-the-duplicate-number/"
   ]
  },
  {
   "cell_type": "code",
   "execution_count": 3,
   "metadata": {},
   "outputs": [
    {
     "data": {
      "text/plain": [
       "6"
      ]
     },
     "execution_count": 3,
     "metadata": {},
     "output_type": "execute_result"
    }
   ],
   "source": [
    "nums = [1,6,3,9,5,6,8]\n",
    "def find_duplicate(nums):\n",
    "        \"\"\"\n",
    "        :type nums: List[int]\n",
    "        :rtype: int\n",
    "        \"\"\"\n",
    "        _dict=dict()\n",
    "        for x in nums:\n",
    "            if x not in _dict:\n",
    "                _dict[x] = 1\n",
    "            else:\n",
    "                return x     \n",
    "        return -1\n",
    "find_duplicate(nums)"
   ]
  },
  {
   "cell_type": "markdown",
   "metadata": {},
   "source": [
    "# draft"
   ]
  },
  {
   "cell_type": "code",
   "execution_count": null,
   "metadata": {},
   "outputs": [],
   "source": []
  },
  {
   "cell_type": "code",
   "execution_count": null,
   "metadata": {},
   "outputs": [],
   "source": []
  },
  {
   "cell_type": "code",
   "execution_count": 43,
   "metadata": {},
   "outputs": [
    {
     "data": {
      "text/plain": [
       "{'x': 10, 'y': 15}"
      ]
     },
     "execution_count": 43,
     "metadata": {},
     "output_type": "execute_result"
    }
   ],
   "source": [
    "a = dict(`{\"x\":10, \"y\" :15})\n",
    "a"
   ]
  },
  {
   "cell_type": "code",
   "execution_count": 44,
   "metadata": {},
   "outputs": [
    {
     "data": {
      "text/plain": [
       "{'x': 10, 'y': 15, 'z': 20}"
      ]
     },
     "execution_count": 44,
     "metadata": {},
     "output_type": "execute_result"
    }
   ],
   "source": [
    "a[\"z\"] = 20\n",
    "a"
   ]
  },
  {
   "cell_type": "code",
   "execution_count": 52,
   "metadata": {},
   "outputs": [
    {
     "data": {
      "text/plain": [
       "[0, 0, 1, 1, 1, 2, 2, 3, 3, 4]"
      ]
     },
     "execution_count": 52,
     "metadata": {},
     "output_type": "execute_result"
    }
   ],
   "source": [
    "nums"
   ]
  },
  {
   "cell_type": "code",
   "execution_count": 53,
   "metadata": {},
   "outputs": [
    {
     "data": {
      "text/plain": [
       "5"
      ]
     },
     "execution_count": 53,
     "metadata": {},
     "output_type": "execute_result"
    }
   ],
   "source": [
    "\n",
    "len(set(nums))"
   ]
  },
  {
   "cell_type": "code",
   "execution_count": null,
   "metadata": {},
   "outputs": [],
   "source": []
  },
  {
   "cell_type": "code",
   "execution_count": 54,
   "metadata": {},
   "outputs": [
    {
     "data": {
      "text/plain": [
       "{'x': 10, 'y': 15, 'z': 20}"
      ]
     },
     "execution_count": 54,
     "metadata": {},
     "output_type": "execute_result"
    }
   ],
   "source": [
    "a"
   ]
  },
  {
   "cell_type": "code",
   "execution_count": 57,
   "metadata": {},
   "outputs": [
    {
     "name": "stdout",
     "output_type": "stream",
     "text": [
      "ko co\n"
     ]
    }
   ],
   "source": [
    "if \"asda\" in a:\n",
    "    print(a[\"asda\"])\n",
    "else:\n",
    "    print(\"ko co\")"
   ]
  },
  {
   "cell_type": "code",
   "execution_count": 59,
   "metadata": {},
   "outputs": [
    {
     "name": "stdout",
     "output_type": "stream",
     "text": [
      "ko co\n"
     ]
    }
   ],
   "source": [
    "print(a.get(\"asda\", \"ko co\"))"
   ]
  },
  {
   "cell_type": "code",
   "execution_count": null,
   "metadata": {},
   "outputs": [],
   "source": []
  },
  {
   "cell_type": "code",
   "execution_count": null,
   "metadata": {},
   "outputs": [],
   "source": []
  }
 ],
 "metadata": {
  "kernelspec": {
   "display_name": "Python 3",
   "language": "python",
   "name": "python3"
  },
  "language_info": {
   "codemirror_mode": {
    "name": "ipython",
    "version": 3
   },
   "file_extension": ".py",
   "mimetype": "text/x-python",
   "name": "python",
   "nbconvert_exporter": "python",
   "pygments_lexer": "ipython3",
   "version": "3.7.1"
  },
  "toc": {
   "base_numbering": 1,
   "nav_menu": {},
   "number_sections": true,
   "sideBar": true,
   "skip_h1_title": false,
   "title_cell": "Table of Contents",
   "title_sidebar": "Contents",
   "toc_cell": false,
   "toc_position": {
    "height": "calc(100% - 180px)",
    "left": "10px",
    "top": "150px",
    "width": "279.273px"
   },
   "toc_section_display": true,
   "toc_window_display": true
  }
 },
 "nbformat": 4,
 "nbformat_minor": 2
}
