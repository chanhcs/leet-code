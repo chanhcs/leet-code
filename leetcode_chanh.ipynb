{
 "cells": [
  {
   "cell_type": "raw",
   "metadata": {},
   "source": [
    "[Chuyện phỏng vấn tại KMS]\n",
    "Đầu tiên là ad xin cám ơn đóng góp của một bạn thành viên của page - xin giấu tên - đã chia sẽ cho ad thông tin về đợt tuyển dụng tại KMS 🤗. Mình rất mong nhận được những thông tin qua những buổi interview được chia sẻ từ những bạn member khác để anh em ngành CNTT mình đi interview đỡ phải hoang mang hơn 😎\n",
    "\n",
    "Vị trí Fresher Java/.Net năm 2018. Xin trích nguyên văn từ bạn ấy 😉\n",
    "\n",
    "Đề phỏng vấn fresher sẽ có 2 đề và chọn 1 để làm. Sẽ có laptop và công ty yêu cầu bắt ứng viên phải code trên Notepad và không có IDE, được phép lên mạng để Google. Hoàn thành trong 45 phút.\n",
    "\n",
    "Đề 1: Hiện thực một cấu trúc dữ liệu (CTDL) chứa số nguyên (int) có method insert và method trả về TẤT CẢ các CẶP số nguyên hiện có trong CTDL sao cho tổng của chúng bằng 1 số n cho trước. \n",
    "Example: Giả sử insert vô cấu trúc dữ liệu theo thứ tự 3,5,2,4,1,6 ta sẽ có:\n",
    "add(3) -> [3]\n",
    "add(5) -> [3,5], tương tự add(2), add(4), add(1) và add(6)\n",
    "count(8) -> [[3,5],[2,6]]. Tức là ở đây có 2 cặp số có tổng bằng 8. Kế tiếp insert 7 vô CTDL.\n",
    "add(7) -> [3,5,2,4,1,6,7]\n",
    "count(8) -> [[3,5],[2,6],[1,7]]. Có thêm 1 cặp nữa tổng bằng 8 luôn.\n",
    "**Note: Đề bài này không rõ ràng ở chỗ các số nguyên hiện có trong CTDL có bị duplicate hay không? Nên nếu bạn giỏi thì trước khi trình bày với giám khảo Technical, bạn nên nêu rõ là mình đã xét trường hợp ấy. Giám khảo cũng chỉ mong là bạn đưa ra được solution sử dụng 2 vòng lặp để hiện thực method count, solution tối ưu hơn chúng ta sẽ dùng HashTable\n",
    "\n",
    "Đề 2: Cho trước 1 List <String> viết 1 hàm dạng:\n",
    "int dist (String a, String b) trả về khoảng cách a,b trong list. Nếu a,b bị duplicate trong list thì trả về khoảng cách bé nhất. Nếu a hoặc b không tồn tại thì trả về -1\n",
    "Example: input là List<String> list = Array.asList(\"cat\", \"dog\", \"bird\", \"fish\", \"cat\",\"duck\",\"chicken\",\"dog\")\n",
    "dist(\"dog\",\"duck\") -> 2\n",
    "dist(\"cat\",\"frog\") -> -1\n",
    "Explanation: dist(“dog”,”duck”) -> 2 \n",
    "Vì dog đầu tiên ở index 1, dog thứ hai ở index 7. Duck ở index 5. Đáp án sẽ là Math.min( |1-5 |, |7-5|);\n",
    "\n",
    "Sau khi hoàn thành phần coding, tiếp theo bạn sẽ vào phỏng vấn với 2 người: 1 người thiên về Technical sẽ hỏi về bài làm của bạn và 1 HR quan sát behaviour, hỏi về tính cách.\n",
    "\n",
    "Câu hỏi phỏng vấn:\n",
    "Em có thể tự giới thiệu bản thân. Lí do tại sao em chọn vô công ty KMS?\n",
    "\n",
    "Từ trước đến giờ, em đã từng đi thực tập ở bao nhiêu nơi hay từng đi làm ở đâu chưa? Nếu có thì em có thể chia sẻ một project mà em từng làm và cảm thấy tâm đắc nhất.\n",
    "\n",
    "Em đã tốt nghiệp chưa? Khi nào nhận bằng? Đề tài luận văn tốt nghiệp của em làm gì và em có thể chia sẻ cho bọn anh biết?\n",
    "Dự định trong tương lai 5 năm tới em sẽ làm gì?\n",
    "\n",
    "Khi còn trên ghế nhà trường, em có hay tham gia hoạt động xã hội không? Thời gian em dành cho việc tham gia hoạt động như thế nào? Giả sử như bây giờ em là sinh viên mới ra trường mà được các anh assign cho một task khá khó so với khả năng của em thì em sẽ làm gì?\n",
    "\n",
    "Vài nhận xét từ người bạn của chúng ta đã làm việc ở KMS 👌\n",
    "\n",
    "Đây là công ty Việt Nam, outsourcing chủ yếu cho khách hàng Mỹ. Môi trường khá tốt và phù hợp cho những bạn mong đợi sẽ được học và trau dồi chuyên môn lẫn ngoại ngữ và khi tham gia KMS Next cũng sẽ không bị điều kiện ràng buộc nào hết. KHUYẾN CÁO:\n",
    "\n",
    "- Mức lương khởi điểm khá thấp.\n",
    "- Giờ giấc thoải mái nên không có khái niệm OT, task nặng thì cũng chỉ ghi nhận bạn dành thời gian estimate để hoàn thành chứ không có bonus.\n",
    "- Một kỳ tăng lương 6 tháng. Cũng rất ít.\n",
    "\n",
    "-----\n",
    "\n",
    "Chuyện về một thanh niên phỏng vấn ngày cuối năm:\n",
    "Đây là lần đầu mình nộp hồ sơ phỏng vấn cho một công ty nước ngoài - Employment Hero của Australia (https://employmenthero.com) vị trí Ruby On Rails Developer và đây là một startup làm product về HR software, theo thông tin tìm hiểu trên Vietnamworks thì lương trả cũng khá cao cho sinh viên thực tập mức Entry level (500$ - 1200$). Đúng là công ty nước ngoài interview khác hẳn với mấy công ty Việt Nam mà mình từng phỏng vấn như FPT, VNG do câu hỏi toàn là tiếng Anh từ đầu tới cuối. Trước khi interview bạn sẽ phải làm một bài test làm trong 90 phút gồm 3 phần A, B, C\n",
    "\n",
    "Phần A: Test IQ\n",
    "Cho những câu như tìm hình tìm ra quy luật giống giống đường lên đỉnh Olympia. Mình nhớ một câu trong đó là 4 bananas + 6 apples cost 5.12$ and 5 apples + 2 banana cost 2.12$. Hỏi giá của banana ? của apple ? Bài này giải hệ phương trình là ra ngay nhưng ngặt nỗi đết cho dùng máy tính :') ngồi chia tay phần thập phân hơi bị đuối.\n",
    "\n",
    "Phần B: Test thuật toán & giải thuật\n",
    "Bạn được chọn ngôn ngữ bất kì hoặc pseudo code để viết hàm theo yêu cầu sau:\n",
    "\n",
    "1. Viết hàm đảo ngược một chuỗi input. Ví dụ \"abcdef\" => \"fedcba\"\n",
    "\n",
    "2. Viết hàm bỏ đi những phần tử lặp lại trong mảng. Ví dụ [1,2,3,4,5,4,4,2] => [1,2,3,4,5]\n",
    "\n",
    "3. Viết hàm kiểm tra cặp kí tự '(' và ')' trong chuỗi. Ví dụ\n",
    "\"()()()()(())\" => output: true\n",
    "\"(()()()(()\" => output: false\n",
    "\n",
    "4. Viết hàm trả về số nhỏ thứ k trong mảng số nguyên. Ví dụ cho một mảng các số nguyên chưa được sắp xếp thứ tự\n",
    "[1,5,4,12,6,7,9,8] yêu cầu trả về số nhỏ thứ 3 (k = 3) trong mảng => output: 5\n",
    "\n",
    "5. Viết hàm tìm ra mảng con liên tiếp có tổng lớn nhất trong một mảng với tham số k là số phần tử của mảng con đó. Ví dụ:\n",
    "[1, -5, 4, 3, 6, 8, 2, 4], k = 3 => output: [3, 6, 8]\n",
    "\n",
    "Phần C: Test English (Writing)\n",
    "1. What was your most challenge project ? -- Why ?\n",
    "2. What was your biggest achievement ?\n",
    "\n",
    "Đề này mà làm trong vòng 90 phút hơi căng : ))\n",
    "Làm xong bài test đến phần interview với HR bên đó. Hỏi mình tốt nghiệp ra trường hay chưa rồi hỏi tiếng anh giao tiếp của mình ổn không. Xong rồi interview hỏi toàn tiếng anh:\n",
    "\n",
    "Could you introduce about yourself ?\n",
    "\n",
    "You had opportunity to internship last year and you had 3 months experience so What your mentor talked about you ? Strength and weakness ?\n",
    "\n",
    "Tell me some specifications that you have when you work with us ?\n",
    "\n",
    "Do you have any questions about our company ? benefit ? salary ? working environment ?\n",
    "\n",
    "Vốn tiếng Anh giao tiếp mình hơi hạn hẹp nên nói cũng tạm tùm lum tùm la ông HR cũng hiểu dù nhiều chỗ nói sai ngữ pháp hết trơn mà văn nói bạn có nói sai ngữ pháp cũng không sao :')\n",
    "\n",
    "Kết luận: Bạn nào muốn có cơ hội làm việc trong công ty nước ngoài không phải Việt Nam thì hãy trau dồi tiếng Anh giao tiếp kha khá chuẩn bị kĩ phòng thân vài câu trong đầu để bị hỏi còn tuôn ra được : ))\n",
    "Bên cạnh đó phải chuẩn bị kiến thức về thuật toán giải thuật các kiểu để làm bài test được vì đây là mức entry level nên tuyển đa số là sinh viên năm cuối hoặc mới ra trường nên chưa hỏi kĩ lắm về kiến thức chuyên ngành. Công ty startup nước ngoài sẵn sàng trả lương đầu vào cho sinh viên khá cao so với mấy công ty Việt Nam hiện nay tuy nhiên làm bài test và interview của nó cũng khá khó khăn T_T\n"
   ]
  },
  {
   "cell_type": "markdown",
   "metadata": {},
   "source": [
    "# single-number\n",
    "https://leetcode.com/problems/single-number/"
   ]
  },
  {
   "cell_type": "code",
   "execution_count": 1,
   "metadata": {},
   "outputs": [
    {
     "data": {
      "text/plain": [
       "1"
      ]
     },
     "execution_count": 1,
     "metadata": {},
     "output_type": "execute_result"
    }
   ],
   "source": [
    "def single_number(arr):# O(n)\n",
    "    _dict = dict()\n",
    "    \n",
    "    for x in arr: # O(n)\n",
    "        if x not in _dict: # O(1)\n",
    "            _dict[x] = 1# O(1)\n",
    "        else: \n",
    "            _dict[x] += 1 # O(1)\n",
    "    \n",
    "    for k, v in _dict.items(): # O(n)\n",
    "        if v == 1:\n",
    "            return k\n",
    "\n",
    "def single_number_faster(arr):# O(n)\n",
    "    _dict = dict()\n",
    "    for x in arr: # O(n)\n",
    "        if x not in _dict: # O(1)\n",
    "            _dict[x] = 1# O(1)\n",
    "        else:\n",
    "            _dict[x]# O(1)\n",
    "    return list(_dict.keys())[0]# O(1)\n",
    "            \n",
    "\n",
    "array = [1,2,3,4,3,2,1, 5,4]\n",
    "single_number_faster(array)"
   ]
  },
  {
   "cell_type": "markdown",
   "metadata": {},
   "source": [
    "# majority-element\n",
    "https://leetcode.com/problems/majority-element/\n"
   ]
  },
  {
   "cell_type": "code",
   "execution_count": 2,
   "metadata": {},
   "outputs": [
    {
     "data": {
      "text/plain": [
       "5"
      ]
     },
     "execution_count": 2,
     "metadata": {},
     "output_type": "execute_result"
    }
   ],
   "source": [
    "def find_majority_element(nums):\n",
    "    _dict=dict()\n",
    "    for x in nums:\n",
    "        if x not in _dict:\n",
    "            _dict[x] = 1\n",
    "        else:\n",
    "            _dict[x] += 1       \n",
    "    for k, v in _dict.items():\n",
    "        if(v > len(nums)/2):\n",
    "            return k\n",
    "    return -1\n",
    "\n",
    "nums = [2,2,1,1,1,5,5,5,5,5,5,5,2]\n",
    "find_majority_element(nums)"
   ]
  },
  {
   "cell_type": "markdown",
   "metadata": {},
   "source": [
    "# reverse a string\n",
    "Problems: Give a string as input, return the string in reverse order.\n",
    "\n",
    "example: \"abc\" -> \"cba\""
   ]
  },
  {
   "cell_type": "code",
   "execution_count": 3,
   "metadata": {},
   "outputs": [
    {
     "name": "stdout",
     "output_type": "stream",
     "text": [
      "dcba\n",
      "dcba\n",
      "['d', 'c', 'b', 'a']\n"
     ]
    }
   ],
   "source": [
    "def reverse_string(string):\n",
    "    res = \"\"\n",
    "    str_len = len(string)\n",
    "    for i in range(str_len): #### for int i = 0; i++; i< str_len\n",
    "        res+= string[str_len - i - 1]\n",
    "    return res\n",
    "\n",
    "def reverse_string_2(string):\n",
    "    res = \"\"\n",
    "    for s in string:\n",
    "        res = s + res   # res = \"cba\"\n",
    "    return res\n",
    "\n",
    "\n",
    "def reverse_string_3(array):\n",
    "    for i in range(len(array)//2):\n",
    "        array[i], array[len(array)-i-1] = array[len(array)-i-1], array[i]\n",
    "    return array\n",
    "\n",
    "\n",
    "\n",
    "print(reverse_string(\"abcd\"))\n",
    "print(reverse_string_2(\"abcd\"))\n",
    "print(reverse_string_3([\"a\", \"b\", \"c\", \"d\"]))"
   ]
  },
  {
   "cell_type": "markdown",
   "metadata": {},
   "source": [
    "# reverse-words-in-a-string/ \n",
    "https://leetcode.com/problems/reverse-words-in-a-string/ "
   ]
  },
  {
   "cell_type": "code",
   "execution_count": 4,
   "metadata": {},
   "outputs": [
    {
     "data": {
      "text/plain": [
       "'you love i'"
      ]
     },
     "execution_count": 4,
     "metadata": {},
     "output_type": "execute_result"
    }
   ],
   "source": [
    "def reverse_words( s):\n",
    "    \"\"\"\n",
    "    :type s: str\n",
    "    :rtype: str\n",
    "    \"\"\"\n",
    "\n",
    "    list_string  = s.split() #O(n)\n",
    "    res = \"\"\n",
    "    for s in list_string: #O(n)\n",
    "        res = s + \" \" + res \n",
    "    return res[:-1]\n",
    "\n",
    "string = \"i love   you\"\n",
    "reverse_words(string)"
   ]
  },
  {
   "cell_type": "markdown",
   "metadata": {},
   "source": [
    "# two-sum\n",
    "https://leetcode.com/problems/two-sum/"
   ]
  },
  {
   "cell_type": "code",
   "execution_count": 37,
   "metadata": {},
   "outputs": [],
   "source": [
    "def two_sum(nums, target):\n",
    "    my_dict = dict()\n",
    "    for i, x in enumerate(nums):\n",
    "        complement = target - x  # target = 9, x = 2 => complement = 7\n",
    "        if complement not in my_dict:\n",
    "            my_dict[x] = i   # my_dict[2] = i \n",
    "        else:\n",
    "            return [my_dict[complement], i]"
   ]
  },
  {
   "cell_type": "code",
   "execution_count": 40,
   "metadata": {},
   "outputs": [],
   "source": [
    "## test\n",
    "nums = [230,863,916,585,981,404,316,785,88,12,70,435,384,778,887,755,740,337,86,92,325,422,815,650,920,125,277,336,221,847,168,23,677,61,400,136,874,363,394,199,863,997,794,587,124,321,212,957,764,173,314,422,927,783,930,282,306,506,44,926,691,568,68,730,933,737,531,180,414,751,28,546,60,371,493,370,527,387,43,541,13,457,328,227,652,365,430,803,59,858,538,427,583,368,375,173,809,896,370,789]\n",
    "target = 542\n",
    "\n",
    "result = two_sum(nums, target)\n",
    "true_res = [28,45]\n",
    "\n",
    "## verify the result, if true: nothing happens, if false: show message\n",
    "assert result == true_res, \"Wrong answer !!!\""
   ]
  },
  {
   "cell_type": "code",
   "execution_count": 41,
   "metadata": {},
   "outputs": [
    {
     "data": {
      "text/plain": [
       "[0, 4]"
      ]
     },
     "execution_count": 41,
     "metadata": {},
     "output_type": "execute_result"
    }
   ],
   "source": [
    "nums= [0,3,-3,4,-1]\n",
    "target = -1\n",
    "\n",
    "\n",
    "two_sum(nums, target)"
   ]
  },
  {
   "cell_type": "code",
   "execution_count": 42,
   "metadata": {},
   "outputs": [
    {
     "data": {
      "text/plain": [
       "[1, 2]"
      ]
     },
     "execution_count": 42,
     "metadata": {},
     "output_type": "execute_result"
    }
   ],
   "source": [
    "nums= [2,11,5,7,15]\n",
    "target = 16\n",
    "\n",
    "two_sum(nums, target)"
   ]
  },
  {
   "cell_type": "markdown",
   "metadata": {},
   "source": [
    "# remove-duplicates-from-sorted-array\n",
    "https://leetcode.com/problems/remove-duplicates-from-sorted-array/"
   ]
  },
  {
   "cell_type": "code",
   "execution_count": 50,
   "metadata": {},
   "outputs": [],
   "source": [
    "def removeDuplicates(nums):\n",
    "    ## TODO\n",
    "    return -1"
   ]
  },
  {
   "cell_type": "code",
   "execution_count": 51,
   "metadata": {},
   "outputs": [],
   "source": [
    "## test case 1\n",
    "nums = [0,0,1,1,1,2,2,3,3,4]\n",
    "res = removeDuplicates(nums)\n",
    "\n",
    "## verify the result, if true: nothing happens, if false: show message\n",
    "assert res == 5, \"Wrong answer !!!\""
   ]
  },
  {
   "cell_type": "code",
   "execution_count": null,
   "metadata": {},
   "outputs": [],
   "source": [
    "## test case 2\n",
    "nums = [1,1,2]\n",
    "res = removeDuplicates(nums)\n",
    "\n",
    "assert res == 2, \"Wrong answer !!!\""
   ]
  },
  {
   "cell_type": "code",
   "execution_count": null,
   "metadata": {},
   "outputs": [],
   "source": [
    "## test case 3\n",
    "nums = [1]\n",
    "res = removeDuplicates(nums)\n",
    "\n",
    "assert res == 1, \"Wrong answer !!!\""
   ]
  },
  {
   "cell_type": "markdown",
   "metadata": {},
   "source": [
    "# jewels-and-stones\n",
    "https://leetcode.com/problems/jewels-and-stones/\n"
   ]
  },
  {
   "cell_type": "code",
   "execution_count": 61,
   "metadata": {},
   "outputs": [],
   "source": [
    "class Solution(object):\n",
    "    def numJewelsInStones(self, J, S):\n",
    "        \"\"\"\n",
    "        :type J: str\n",
    "        :type S: str\n",
    "        :rtype: int\n",
    "        \"\"\"\n",
    "        dict_J = dict()\n",
    "        for x in J:\n",
    "            if x not in dict_J:\n",
    "                dict_J[x] = 1\n",
    "            else:\n",
    "                dict_J[x] += 1\n",
    "                \n",
    "        dict_S = dict()\n",
    "        for x in S:\n",
    "            if x not in dict_S:\n",
    "                dict_S[x] = 1\n",
    "            else:\n",
    "                dict_S[x] += 1\n",
    "        res=0\n",
    "        for k, v in dict_S.items():\n",
    "            if k in dict_J:\n",
    "                res += v \n",
    "        return res"
   ]
  },
  {
   "cell_type": "code",
   "execution_count": 64,
   "metadata": {},
   "outputs": [
    {
     "data": {
      "text/plain": [
       "3"
      ]
     },
     "execution_count": 64,
     "metadata": {},
     "output_type": "execute_result"
    }
   ],
   "source": [
    "J = \"aA\"\n",
    "S = \"aAAbbbb\"\n",
    "\n",
    "a = Solution()\n",
    "a.numJewelsInStones(J, S)"
   ]
  },
  {
   "cell_type": "markdown",
   "metadata": {},
   "source": [
    "# missing-number\n",
    "https://leetcode.com/problems/missing-number/"
   ]
  },
  {
   "cell_type": "code",
   "execution_count": 81,
   "metadata": {},
   "outputs": [],
   "source": [
    "class Solution:\n",
    "    def missingNumber(self, nums):\n",
    "        _sum = 0\n",
    "        n = len(nums)\n",
    "        total_origin = int(n* (n+1)/2)\n",
    "        for x in nums:\n",
    "             _sum += x\n",
    "        k = total_origin - _sum   \n",
    "        return k"
   ]
  },
  {
   "cell_type": "code",
   "execution_count": 82,
   "metadata": {},
   "outputs": [],
   "source": [
    "nums = [9,6,4,2,3,5,7,0,1]\n",
    "test = Solution()\n",
    "res = test.missingNumber(nums)\n",
    "true_res = 8\n",
    "\n",
    "assert res == true_res, \"Wrong answer !!!\" "
   ]
  },
  {
   "cell_type": "markdown",
   "metadata": {},
   "source": [
    "# draft"
   ]
  },
  {
   "cell_type": "code",
   "execution_count": 43,
   "metadata": {},
   "outputs": [
    {
     "data": {
      "text/plain": [
       "{'x': 10, 'y': 15}"
      ]
     },
     "execution_count": 43,
     "metadata": {},
     "output_type": "execute_result"
    }
   ],
   "source": [
    "a = dict(`{\"x\":10, \"y\" :15})\n",
    "a"
   ]
  },
  {
   "cell_type": "code",
   "execution_count": 44,
   "metadata": {},
   "outputs": [
    {
     "data": {
      "text/plain": [
       "{'x': 10, 'y': 15, 'z': 20}"
      ]
     },
     "execution_count": 44,
     "metadata": {},
     "output_type": "execute_result"
    }
   ],
   "source": [
    "a[\"z\"] = 20\n",
    "a"
   ]
  },
  {
   "cell_type": "code",
   "execution_count": 52,
   "metadata": {},
   "outputs": [
    {
     "data": {
      "text/plain": [
       "[0, 0, 1, 1, 1, 2, 2, 3, 3, 4]"
      ]
     },
     "execution_count": 52,
     "metadata": {},
     "output_type": "execute_result"
    }
   ],
   "source": [
    "nums"
   ]
  },
  {
   "cell_type": "code",
   "execution_count": 53,
   "metadata": {},
   "outputs": [
    {
     "data": {
      "text/plain": [
       "5"
      ]
     },
     "execution_count": 53,
     "metadata": {},
     "output_type": "execute_result"
    }
   ],
   "source": [
    "\n",
    "len(set(nums))"
   ]
  },
  {
   "cell_type": "code",
   "execution_count": null,
   "metadata": {},
   "outputs": [],
   "source": []
  },
  {
   "cell_type": "code",
   "execution_count": 54,
   "metadata": {},
   "outputs": [
    {
     "data": {
      "text/plain": [
       "{'x': 10, 'y': 15, 'z': 20}"
      ]
     },
     "execution_count": 54,
     "metadata": {},
     "output_type": "execute_result"
    }
   ],
   "source": [
    "a"
   ]
  },
  {
   "cell_type": "code",
   "execution_count": 57,
   "metadata": {},
   "outputs": [
    {
     "name": "stdout",
     "output_type": "stream",
     "text": [
      "ko co\n"
     ]
    }
   ],
   "source": [
    "if \"asda\" in a:\n",
    "    print(a[\"asda\"])\n",
    "else:\n",
    "    print(\"ko co\")"
   ]
  },
  {
   "cell_type": "code",
   "execution_count": 59,
   "metadata": {},
   "outputs": [
    {
     "name": "stdout",
     "output_type": "stream",
     "text": [
      "ko co\n"
     ]
    }
   ],
   "source": [
    "print(a.get(\"asda\", \"ko co\"))"
   ]
  },
  {
   "cell_type": "code",
   "execution_count": null,
   "metadata": {},
   "outputs": [],
   "source": []
  },
  {
   "cell_type": "code",
   "execution_count": null,
   "metadata": {},
   "outputs": [],
   "source": []
  }
 ],
 "metadata": {
  "kernelspec": {
   "display_name": "Python 3",
   "language": "python",
   "name": "python3"
  },
  "language_info": {
   "codemirror_mode": {
    "name": "ipython",
    "version": 3
   },
   "file_extension": ".py",
   "mimetype": "text/x-python",
   "name": "python",
   "nbconvert_exporter": "python",
   "pygments_lexer": "ipython3",
   "version": "3.7.1"
  },
  "toc": {
   "base_numbering": 1,
   "nav_menu": {},
   "number_sections": true,
   "sideBar": true,
   "skip_h1_title": false,
   "title_cell": "Table of Contents",
   "title_sidebar": "Contents",
   "toc_cell": false,
   "toc_position": {
    "height": "calc(100% - 180px)",
    "left": "10px",
    "top": "150px",
    "width": "279.273px"
   },
   "toc_section_display": true,
   "toc_window_display": true
  }
 },
 "nbformat": 4,
 "nbformat_minor": 2
}
